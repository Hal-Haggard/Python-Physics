{
 "cells": [
  {
   "cell_type": "markdown",
   "id": "45d1eeff",
   "metadata": {},
   "source": [
    "# Discretization in One Dimension"
   ]
  },
  {
   "cell_type": "code",
   "execution_count": 2,
   "id": "a9328abc",
   "metadata": {},
   "outputs": [],
   "source": [
    "import matplotlib.pyplot as plt\n",
    "import numpy as np"
   ]
  },
  {
   "cell_type": "markdown",
   "id": "a2849d11",
   "metadata": {},
   "source": [
    "A helpful intuition in the study of Laplace's equation\n",
    "\n",
    "$$\n",
    "\\nabla^2 V = 0\n",
    "$$\n",
    "\n",
    "is to realize that the solutions always have the averaging property. This property can even be turned into a numerical technique for solving Laplace’s equation, the method of relaxation. This is a delightful and accessible numerical technique for solving certain partial differential equations (PDEs) that we will work on in the next few notebooks.\n",
    "\n",
    "In the end this method is very simple, but there are several numerical steps that won’t appear intuitive until you have derived them yourself. The main ingredient&mdash;to understand and develop notation for&mdash;is discretization. You've used discretization in solving Ordinary Differential Equations (ODEs), e.g. for Euler's method, and in plotting vector fields, but here we will focus on this process explicitly. "
   ]
  },
  {
   "cell_type": "markdown",
   "id": "902336ed",
   "metadata": {},
   "source": [
    "## One-dimensional discretization"
   ]
  },
  {
   "cell_type": "markdown",
   "id": "36a4707e",
   "metadata": {},
   "source": [
    "A discretization cuts a smooth, continuous space into pieces. At first we will always take these pieces to have the same size. A simple example is the elementary number line plotted below. The discretization chops the black line into a set of evenly spaced, red points."
   ]
  },
  {
   "cell_type": "code",
   "execution_count": 26,
   "id": "2b97a31a",
   "metadata": {},
   "outputs": [
    {
     "data": {
      "image/png": "[encoded data removed]",
      "text/plain": [
       "<Figure size 640x480 with 1 Axes>"
      ]
     },
     "metadata": {},
     "output_type": "display_data"
    }
   ],
   "source": [
    "latticepts = np.linspace(-5,5,11) #Setup the points of the discretization\n",
    "yvals = np.zeros_like(latticepts) #In 1D give them no y heights\n",
    "\n",
    "fig, ax = plt.subplots() #Setup figure\n",
    "\n",
    "ax.plot(latticepts,yvals,\"ro\",latticepts, yvals, '-k') #Make plot\n",
    "\n",
    "ratio = 0.2 #The next few lines adjust the aspect ratio for our 1D plot\n",
    "x_left, x_right = ax.get_xlim()\n",
    "y_low, y_high = ax.get_ylim()\n",
    "ax.set_aspect(abs((x_right-x_left)/(y_low-y_high))*ratio)\n",
    "\n",
    "plt.xticks(latticepts) #Show ticks and labels at all lattice pts\n",
    "plt.tick_params(left = False, labelleft = False) #Remove vertical ticks/labels\n",
    "\n",
    "plt.show()"
   ]
  },
  {
   "cell_type": "markdown",
   "id": "ae8516bb",
   "metadata": {},
   "source": [
    "The idea of the discretization is to study the electric potential $V$ not at every point of the black line, but only at the discrete set of values denoted by the red points. It will be quite useful to have some notation that allows us to refer to the points of the discretization. If we think of the black line as the $x$-axis, then we can refer to an arbitrary red point using the symbol $x_i$. Here the subscript $i$ varies over the integers and picks out which lattice point we are referring to. The lattice points $x_{-4}$ and $x_{3}$ are shown in the plot below."
   ]
  },
  {
   "cell_type": "code",
   "execution_count": 58,
   "id": "d7c19eb7",
   "metadata": {},
   "outputs": [
    {
     "data": {
      "image/png": "[encoded data removed]",
      "text/plain": [
       "<Figure size 640x480 with 1 Axes>"
      ]
     },
     "metadata": {},
     "output_type": "display_data"
    }
   ],
   "source": [
    "fig, ax = plt.subplots() #Same setup as above...\n",
    "\n",
    "ax.plot(latticepts,yvals,\"ro\",latticepts, yvals, '-k') \n",
    "ax.set_aspect(abs((x_right-x_left)/(y_low-y_high))*ratio)\n",
    "plt.xticks(latticepts) \n",
    "plt.tick_params(left = False, labelleft = False) \n",
    "\n",
    "#...but, this snippet adds text to the plot\n",
    "ax.text(.76, 0.65, \"$x_3$\",c='red', fontsize=16, transform=ax.transAxes)\n",
    "ax.text(.1, 0.65, \"$x_{-4}$\",c='red', fontsize=16, transform=ax.transAxes)\n",
    "\n",
    "plt.show()"
   ]
  },
  {
   "cell_type": "markdown",
   "id": "5447e785",
   "metadata": {},
   "source": [
    "Using a bit of notational cleverness, we can also develop a shorthand for the value of the electric potential at the point $x_i$: we simply use the same subscript convention again and define $V_i \\equiv V(x_i)$. It is much easier to do calculations with the compact expression $V_i$ than with the more cumbersome $V(x_i)$. \n",
    "\n",
    "Let's use this new notation to find a discrete approximation to the derivative $dV/dx$. At the point $x_i$, this derivative is defined by\n",
    "\n",
    "$$\n",
    "\\frac{dV}{dx} = \\lim_{h \\rightarrow 0} \\frac{V(x_i+h)-V(x_i)}{h}.\n",
    "$$\n",
    "\n",
    "To make a discrete approximation of this quantity we will simply drop the limit and take the step size $h$ to be fixed. In particular, this means that $x_i+h$ is one step to the right of $x_i$ and is $x_{i+1}$. Our approximation is then,\n",
    "\n",
    "$$\n",
    "\\frac{dV}{dx} \\approx \\frac{V(x_{i+1})-V(x_i)}{h} = \\frac{V_{i+1}-V_i}{h}.\n",
    "$$\n",
    "\n",
    "The writing saved in the last expression can be quite substantial when you are doing manipulations by hand. "
   ]
  },
  {
   "cell_type": "markdown",
   "id": "1aa9a97b",
   "metadata": {},
   "source": [
    "<b> Exercise (a):</b> Find a discretization for $d^2 V/dx^2$. Your answer should be in terms of $V_{i+1}, V_i, V_{i-1}$ and $h^2$. [Hint: Recall that you can always think of a 2nd derivative as\n",
    "\n",
    "$$\n",
    "\\frac{d^2 V}{dx^2} = \\frac{d}{dx}\\left(\\frac{dV}{dx} \\right). \n",
    "$$\n",
    "This means that you can find a discretization for the 2nd derivative by applying the one for the first derivative twice. It will be helpful to give $dV/dx$ a name, like $W(x) = dV/dx$, and discretize the outer derivative first, only after that putting in the definition of $W$.]"
   ]
  },
  {
   "cell_type": "markdown",
   "id": "c7c7a767",
   "metadata": {},
   "source": [
    "<b> Exercise (b):</b> Use your answer to (a) to find a numerical approximation to the second derivative of $\\sin(x)$ in the interval $[0,2\\pi)$ for step sizes $h\\in\\{2\\pi/10,2\\pi/100,2\\pi/1000\\}$. Plot the exact answer together with your numerical approximations."
   ]
  },
  {
   "cell_type": "markdown",
   "id": "342d631c",
   "metadata": {},
   "source": [
    "## Solving Laplace's equation in one-dimension"
   ]
  },
  {
   "cell_type": "markdown",
   "id": "275ab1df",
   "metadata": {},
   "source": [
    "In the final exercise you will develop a method to numerically solve Laplace's equation on a 1D discretization. Using your result from (a), Laplace's equation on three neighboring lattice points is approximately given by \n",
    "\n",
    "$$\n",
    "\\frac{V_{i+1}-2 V_i+V_{i-1}}{h^2} = 0. \n",
    "$$\n",
    "\n",
    "Solving this equation for $V_i$ gives\n",
    "\n",
    "\\begin{equation*}\n",
    "V_i = \\frac{V_{i+1}+V_{i-1}}{2}.\n",
    "\\label{LapEq} \\tag{1}\n",
    "\\end{equation*}\n",
    "\n",
    "This says that at each lattice point $x_i$ the value of the potential is equal to the average of the two neighboring values, which is just a discrete version of the averaging property! Remarkably, the step size, $h$, has disappeared. \n",
    "\n",
    "For equations like Laplace's we often don't specify two initial conditions at one point, but instead specify one boundary condition at each point on the boundary of the region we are trying to solve it in. For the case of the 1D lattice introduced at the beginning of this notebook this means that we should be given the value of the potential at $x_{-5}$ and at $x_{5}$ and we will not update these values. (People typically call these Dirichlet boundary conditions.) \n",
    "\n",
    "The idea of the method of relaxation is to use Eq. $\\eqref{LapEq}$ to solve for all the values of $V_i$ away from the boundary. Notice, however, that using this equation to find $V_{-4}$ involves the value of $V_{-3}$, specifically,\n",
    "\n",
    "$$\n",
    "V_{-4} = \\frac{V_{-3}+V_{-5}}{2},\n",
    "$$\n",
    "\n",
    "and we don't yet know $V_{-3}$.  To get around this issue we begin by assigning arbitrary initial values to all the interior lattice points, then use Eq. $\\eqref{LapEq}$ to update the values on the interior. A first pass through all the interior points will update some of their values and this means that they will change again on a second pass through. The name of the method comes from the fact that as you repeatedly run through the points, they will eventually \"relax\" to values that are either no longer changing, or changing by less and less.\n",
    "\n",
    "The code below illustrates a simple implementation of this method for the case where $V_{-5} = -4$ and $V_5 = 4$. As mentioned above, the interior points can be given arbitrary initial values. However, if the initial values are huge compared to the true solution it will take the method a long time to relax to the true values. For this reason it is wise to pick values that are not \"too far\" from the solution. Again, the intuition of the averaging property helps in coming up with a strategy. We will simply assign the average of the boundary values as the initial condition for all the interior points. These initial values shouldn't be too far from the solution. \n"
   ]
  },
  {
   "cell_type": "code",
   "execution_count": 38,
   "id": "b59bb038",
   "metadata": {
    "scrolled": false
   },
   "outputs": [
    {
     "name": "stdout",
     "output_type": "stream",
     "text": [
      "[-4.  0.  0.  0.  0.  0.  0.  0.  0.  0.  4.]\n",
      "[-4. -2.  0.  0.  0.  0.  0.  0.  0.  2.  4.]\n",
      "[-4. -2. -1.  0.  0.  0.  0.  0.  1.  2.  4.]\n",
      "[-4.  -2.5 -1.  -0.5  0.   0.   0.   0.5  1.   2.5  4. ]\n",
      "[-4.   -2.5  -1.5  -0.5  -0.25  0.    0.25  0.5   1.5   2.5   4.  ]\n",
      "[-4.    -2.75  -1.5   -0.875 -0.25   0.     0.25   0.875  1.5    2.75\n",
      "  4.   ]\n",
      "********\n",
      "[-4.         -3.2        -2.4        -1.59999999 -0.8         0.\n",
      "  0.8         1.59999999  2.4         3.2         4.        ]\n",
      "[-4.  -3.2 -2.4 -1.6 -0.8  0.   0.8  1.6  2.4  3.2  4. ]\n",
      "[-4.  -3.2 -2.4 -1.6 -0.8  0.   0.8  1.6  2.4  3.2  4. ]\n",
      "[-4.  -3.2 -2.4 -1.6 -0.8  0.   0.8  1.6  2.4  3.2  4. ]\n",
      "[-4.  -3.2 -2.4 -1.6 -0.8  0.   0.8  1.6  2.4  3.2  4. ]\n",
      "[-4.  -3.2 -2.4 -1.6 -0.8  0.   0.8  1.6  2.4  3.2  4. ]\n",
      "[-4.  -3.2 -2.4 -1.6 -0.8  0.   0.8  1.6  2.4  3.2  4. ]\n"
     ]
    }
   ],
   "source": [
    "latticepts = np.linspace(-5,5,11)   #Setup the points of the discretization\n",
    "Vinit=-4                            #The boundary values\n",
    "Vfin=4\n",
    "BndAve = (Vfin+Vinit)/2             #The initial values for internal points\n",
    "\n",
    "Vvals = np.zeros_like(latticepts)   #Setup an array of potential values and fill it\n",
    "Vvals[0]=Vinit\n",
    "Vvals[1:10]=BndAve                  #Recall that the slice only goes up to the right end minus one\n",
    "Vvals[10]=Vfin\n",
    "\n",
    "print(Vvals)\n",
    "\n",
    "for i in range(100):                        #Iteration for the passes through the discretization\n",
    "    Nvals = np.zeros_like(latticepts)       #Setup an array to store new computed values\n",
    "    for j in range(9):                      #Compute new values\n",
    "        Nvals[j+1]=(Vvals[j]+Vvals[j+2])/2  \n",
    "    Vvals[1:10]=Nvals[1:10]                 #Update the potential values with computed vales for this pass\n",
    "    \n",
    "    \n",
    "    if i<5:                              #A crude method for displaying the output that you should improve\n",
    "        print(Vvals)                     #Print the values for the first few passes\n",
    "    if i==5:\n",
    "        print(\"********\")\n",
    "    if i>92: \n",
    "        print(Vvals)                    #Print the values for the last few passes\n",
    "        "
   ]
  },
  {
   "cell_type": "markdown",
   "id": "601da1e8",
   "metadata": {},
   "source": [
    "\n",
    "<b>Exercise (c):</b> Turn the algorithm above into a function called MethRelax1D that allows you to adjust the number of lattice points N, the boundary values Vinit and Vfin, and the number of passes through the lattice. (Note: you will need to think about how to treat different input values of N.) Use MethRelax1D  to find a numerical solution to Laplace's equation in one dimension, $d^2 V/dx^2=0$, on the interval $x \\in [-7,7]$.  Take $V_{-7} = -4$ and $V_7 = 9$ as boundary conditions. You needn't print out passes through the lattice, but implement a way to be sure that your answer has \"converged\", that is, that it isn't changing much in the last few passes. Plot your numerical result and comment on whether it agrees with the analytical solution, which can be worked out quite explicitly in 1D."
   ]
  },
  {
   "cell_type": "markdown",
   "id": "211488da",
   "metadata": {},
   "source": [
    "You will have notice that in the first several passes the values of several of the interior points don't change. This algorithm is not as efficient as it could be in many ways. We'll explore how to improve it next time."
   ]
  }
 ],
 "metadata": {
  "kernelspec": {
   "display_name": "Python 3 (ipykernel)",
   "language": "python",
   "name": "python3"
  },
  "language_info": {
   "codemirror_mode": {
    "name": "ipython",
    "version": 3
   },
   "file_extension": ".py",
   "mimetype": "text/x-python",
   "name": "python",
   "nbconvert_exporter": "python",
   "pygments_lexer": "ipython3",
   "version": "3.11.4"
  }
 },
 "nbformat": 4,
 "nbformat_minor": 5
}
