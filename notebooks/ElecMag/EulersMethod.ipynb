{
 "cells": [
  {
   "cell_type": "markdown",
   "metadata": {},
   "source": [
    "# Introduction to Numerical Solution of Differential Equations: Euler's Method"
   ]
  },
  {
   "cell_type": "code",
   "execution_count": 2,
   "metadata": {},
   "outputs": [],
   "source": [
    "import numpy as np\n",
    "import matplotlib.pyplot as plt"
   ]
  },
  {
   "cell_type": "markdown",
   "metadata": {},
   "source": [
    "## Euler's Idea"
   ]
  },
  {
   "cell_type": "markdown",
   "metadata": {},
   "source": [
    "The mathematician Leonard Euler developed a wonderful and intuitive method for solving first order differential equations. Suppose we are given the differential equation\n",
    "\n",
    "$$\n",
    "\\dot{x}(t) \\equiv \\frac{dx}{dt}(t)=f(t, x(t)),\n",
    "$$\n",
    "\n",
    "with $f(t, x(t))$ a given function. The idea is simply to approximate the derivative as a finite difference:\n",
    "\n",
    "$$\n",
    "\\frac{dx}{dt}(t) = \\lim_{h \\rightarrow 0} \\frac{x(t+h)-x(t)}{h} \\approx \\frac{x(t+h)-x(t)}{h},\n",
    "$$\n",
    "\n",
    "where the approximation holds for finite, but small $h$. Using this result,\n",
    "\n",
    "$$\n",
    "\\dot{x}(t) \\approx \\frac{x(t+h)-x(t)}{h},\n",
    "$$\n",
    "\n",
    "we can algebraically solve for $x(t+h)$. The solution is \n",
    "\n",
    "$$\n",
    "x(t+h) \\approx h \\cdot \\dot{x}(t) +x(t) = h \\cdot f(t, x(t))+x(t).\n",
    "$$\n",
    "In this way we have found the position after a time step $h$ has elapsed, $x(t+h)$, from the position at our initial time $x(t)$.\n",
    "\n",
    "In the final formula we are supposed to think of $f(t, x(t))$ as given when the differential equation was first specified. This means that once we are given an initial value of $x(t)$ at some time, we can successively find it after one time step $h$, then after another step and another and so on. This gives us $x(t)$ for all future times. \n",
    "\n",
    "Below I use a simple differential equation as an example of this technique. It is valuable to first solve this equation analytically, so that you have something with which to compare the numerics."
   ]
  },
  {
   "cell_type": "markdown",
   "metadata": {},
   "source": [
    "<b>Exercise (a):</b> Solve the first order differential equation $\\dot{x} = -\\lambda x$ using separation of variables, subject to the initial condition $x(0) = x_0$. Again the shorthand $\\dot{x}$ just means $\\dot{x} \\equiv dx/dt$."
   ]
  },
  {
   "cell_type": "markdown",
   "metadata": {},
   "source": [
    "## Implementing the algorithm"
   ]
  },
  {
   "cell_type": "markdown",
   "metadata": {},
   "source": [
    "Suppose we want to solve this equation numerically\n",
    "\n",
    "$$\n",
    "\\dot{x}(t) = - \\lambda x(t), \n",
    "$$\n",
    "and that it is subject to the initial condition $x(0) = 10$ and has $\\lambda=2$. Let's pick a small time step, say $h=0.25$, and evolve this initial condition. Stepping from $t=0$ to $t=0.25$, i.e. following one time step, we have \n",
    "\n",
    "$$\n",
    "x(0+0.25) = 0.25 \\cdot \\dot{x}(0)+x(0) = 0.25 \\cdot (-\\lambda x(0))+x(0) = 0.25 \\cdot (-2 (10))+10 = 5. \n",
    "$$\n",
    "\n",
    "We could repeat this process again and again, but clearly that is a task for a computer. So, let's write a code to do it. \n",
    "\n",
    "First we need to break the full time interval into steps:"
   ]
  },
  {
   "cell_type": "code",
   "execution_count": 3,
   "metadata": {},
   "outputs": [
    {
     "name": "stdout",
     "output_type": "stream",
     "text": [
      "0.0\n",
      "0.25\n"
     ]
    }
   ],
   "source": [
    "tvals = np.linspace(0.,10.,41)\n",
    "print(tvals[0])\n",
    "print(tvals[1])"
   ]
  },
  {
   "cell_type": "markdown",
   "metadata": {},
   "source": [
    "Notice that because linspace includes the left endpoint, I needed to ask for 41, not 40 points for this to work. \n",
    "\n",
    "Now we can use our numerical integration scheme from above:"
   ]
  },
  {
   "cell_type": "code",
   "execution_count": 7,
   "metadata": {},
   "outputs": [
    {
     "data": {
      "image/png": "[encoded data removed]",
      "text/plain": [
       "<Figure size 720x360 with 1 Axes>"
      ]
     },
     "metadata": {
      "needs_background": "light"
     },
     "output_type": "display_data"
    }
   ],
   "source": [
    "tvals = np.linspace(0.,10.,41)\n",
    "x = np.zeros(len(tvals))\n",
    "x[0]=x0=10\n",
    "lam=2\n",
    "h=0.25\n",
    "for i in range(len(tvals)-1):\n",
    "    x[i+1]=h*(-lam*x[i])+x[i];\n",
    "    \n",
    "plt.figure(figsize=(10,5))\n",
    "plt.plot(tvals,x, 'k-', label=\"numerical curve\")\n",
    "plt.legend(loc=\"upper left\")\n",
    "plt.ylabel('position x(t)',fontsize=20)\n",
    "plt.xlabel('time t',fontsize=20)\n",
    "plt.title('Euler Method Result',fontsize=20)\n",
    "plt.xlim(0, 10)\n",
    "plt.ylim(0, 11)\n",
    "plt.show()"
   ]
  },
  {
   "cell_type": "markdown",
   "metadata": {},
   "source": [
    "<b>Exercise (b)</b>: Plot the result of the numerical code above together with your analytical solution from part (a). Why doesn't the numerical code agree with your analytical solution very well? Adjust the code so that it gives a much better agreement. [Hint: I've chosen a large step size. You'll have to adjust the code in a couple of places to give yourself a more reasonable step size.]"
   ]
  },
  {
   "cell_type": "markdown",
   "metadata": {},
   "source": [
    "<b>Exercise (c)</b>: Wonderfully, unlike the analytical methods that we often study, these numerical techniques can immediately be used to solve nonlinear differential equations. Solve the differential equation\n",
    "\n",
    "$$\n",
    "\\dot{x}(t) =  x^2\n",
    "$$\n",
    "\n",
    "using the Euler method. Take the initial condition $x(0)=0.1$. \n",
    "\n",
    "Because this equation is first order, you can also solve it analytically, although you can't use the standard, exponential, guess. Solve this equation using separation of variables and integration and compare your analytical to your numerical solution. "
   ]
  }
 ],
 "metadata": {
  "kernelspec": {
   "display_name": "Python 3 (ipykernel)",
   "language": "python",
   "name": "python3"
  },
  "language_info": {
   "codemirror_mode": {
    "name": "ipython",
    "version": 3
   },
   "file_extension": ".py",
   "mimetype": "text/x-python",
   "name": "python",
   "nbconvert_exporter": "python",
   "pygments_lexer": "ipython3",
   "version": "3.11.4"
  }
 },
 "nbformat": 4,
 "nbformat_minor": 2
}
