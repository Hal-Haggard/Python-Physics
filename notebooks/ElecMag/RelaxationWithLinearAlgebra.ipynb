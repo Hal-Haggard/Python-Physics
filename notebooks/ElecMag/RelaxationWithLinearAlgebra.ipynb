{
 "cells": [
  {
   "cell_type": "markdown",
   "id": "6f4768a6",
   "metadata": {},
   "source": [
    "# Relaxation With Linear Algebra"
   ]
  },
  {
   "cell_type": "code",
   "execution_count": 2,
   "id": "fe493359",
   "metadata": {},
   "outputs": [],
   "source": [
    "import matplotlib.pyplot as plt\n",
    "import numpy as np"
   ]
  },
  {
   "cell_type": "markdown",
   "id": "110ae93e",
   "metadata": {},
   "source": [
    "## Converting Relaxation Into Linear Algebra"
   ]
  },
  {
   "cell_type": "markdown",
   "id": "d977315a",
   "metadata": {},
   "source": [
    "Before proceeding to higher dimensions, where relaxation methods are more valuable, we will work out another way of formulating the relaxation problem. The idea is to observe that the discrete Laplace equations we found can be turned into a linear system of equations, which can be solved very efficiently using linear algebra. \n",
    "\n",
    "Consider the 4-point lattice shown below:"
   ]
  },
  {
   "cell_type": "code",
   "execution_count": 3,
   "id": "bb8329f6",
   "metadata": {},
   "outputs": [
    {
     "data": {
      "image/png": "[encoded data removed]",
      "text/plain": [
       "<Figure size 640x480 with 1 Axes>"
      ]
     },
     "metadata": {},
     "output_type": "display_data"
    }
   ],
   "source": [
    "latticepts = np.linspace(0,3,4) #Setup the points of the discretization\n",
    "yvals = np.zeros_like(latticepts) #In 1D give them no y heights\n",
    "\n",
    "fig, ax = plt.subplots() #Setup figure\n",
    "\n",
    "ax.plot(latticepts,yvals,\"ro\",latticepts, yvals, '-k') #Make plot\n",
    "\n",
    "ratio = 0.2 #The next few lines adjust the aspect ratio for our 1D plot\n",
    "x_left, x_right = ax.get_xlim()\n",
    "y_low, y_high = ax.get_ylim()\n",
    "ax.set_aspect(abs((x_right-x_left)/(y_low-y_high))*ratio)\n",
    "\n",
    "plt.xticks(latticepts) #Show ticks and labels at all lattice pts\n",
    "plt.tick_params(left = False, labelleft = False) #Remove vertical ticks/labels\n",
    "\n",
    "plt.show()"
   ]
  },
  {
   "cell_type": "markdown",
   "id": "54016a8c",
   "metadata": {},
   "source": [
    "Fix the boundary values $V_0$ and $V_3$ for the potential on this lattice. There are then only two unknowns $V_1$ and $V_2$. The discrete Laplace equation from last time,\n",
    "\n",
    "$$\n",
    "V_i = (V_{i-1}+V_{i+1})/2,\n",
    "$$\n",
    "\n",
    "gives two equations for these unknowns. Explicitly, these are\n",
    "\n",
    "$$\n",
    "V_1 = (V_{0}+V_{2})/2 \\qquad \\text{and} \\qquad V_2 = (V_{1}+V_{3})/2.\n",
    "$$\n",
    "\n",
    "Putting all the unknowns, $V_1$ and $V_2$, on the left side of these equations and the knowns on the right we arrive at the system of equations:\n",
    "\n",
    "$$\n",
    "\\begin{aligned}\n",
    "2V_1-V_2 &= V_0\\\\\n",
    "-V_1+2V_2 &= V_3.\n",
    "\\end{aligned}\n",
    "$$\n",
    "\n",
    "Which, in turn can be written as a matrix equation\n",
    "\n",
    "$$\n",
    "\\begin{pmatrix}\n",
    "2 & -1\\\\\n",
    "-1 & 2\n",
    "\\end{pmatrix} \n",
    "\\begin{pmatrix}\n",
    "V_1\\\\\n",
    "V_2\n",
    "\\end{pmatrix} =\n",
    "\\begin{pmatrix}\n",
    "V_0\\\\\n",
    "V_3\n",
    "\\end{pmatrix}.\n",
    "$$\n",
    "\n",
    "This equation can be solved by multiplying both sides of the equation by the inverse of the matrix. For a 2X2 matrix\n",
    "\n",
    "$$\n",
    "M=\\begin{pmatrix}\n",
    "a & b\\\\\n",
    "c & d\n",
    "\\end{pmatrix},\n",
    "$$\n",
    "\n",
    "the inverse matrix is \n",
    "\n",
    "$$\n",
    "M^{-1} = \\frac{1}{\\det M} \\begin{pmatrix}\n",
    "d & -b\\\\\n",
    "-c & a\n",
    "\\end{pmatrix}.\n",
    "$$\n",
    "\n",
    "For the present problem this yields\n",
    "$$\n",
    "\\begin{pmatrix}\n",
    "V_1\\\\\n",
    "V_2\n",
    "\\end{pmatrix} =\\frac{1}{3}\n",
    "\\begin{pmatrix}\n",
    "2 & 1\\\\\n",
    "1 & 2\n",
    "\\end{pmatrix} \n",
    "\\begin{pmatrix}\n",
    "V_0\\\\\n",
    "V_3\n",
    "\\end{pmatrix},\n",
    "$$\n",
    "or more explicitly \n",
    "$$\n",
    "V_1 = \\frac{2}{3}V_{0}+\\frac{1}{3}V_{3} \\qquad \\text{and} \\qquad V_2 = \\frac{1}{3}V_{0}+\\frac{2}{3} V_{3}.\n",
    "$$\n",
    "We've solved the discrete Laplace equation on the 4-point lattice by hand. The key to this being a simple calculation, with no need for numerics, was that we had an easy to use formula for the inverse of the 2X2 matrix. "
   ]
  },
  {
   "cell_type": "markdown",
   "id": "5df6dd97",
   "metadata": {},
   "source": [
    "## NumPy's Linear Algebra Package"
   ]
  },
  {
   "cell_type": "markdown",
   "id": "7420b16f",
   "metadata": {},
   "source": [
    "For lattices with 5 and more points, the necessary matrix manipulations are more complicated. For this reason we will use NumPy's linear algebra package. Below are illustrations for loading the package, defining a 3X3 matrix, taking the determinant and inverse of that matrix, and multiplying a vector by it:"
   ]
  },
  {
   "cell_type": "code",
   "execution_count": 3,
   "id": "4d861af9",
   "metadata": {},
   "outputs": [],
   "source": [
    "import numpy.linalg as linalg"
   ]
  },
  {
   "cell_type": "code",
   "execution_count": 5,
   "id": "76ac6232",
   "metadata": {},
   "outputs": [
    {
     "name": "stdout",
     "output_type": "stream",
     "text": [
      "[[-4.  1.  0.]\n",
      " [ 1. -4.  1.]\n",
      " [ 0.  1. -4.]]\n"
     ]
    }
   ],
   "source": [
    "M = np.zeros([3,3])\n",
    "\n",
    "# Set the neighbors to the diagonal to 1\n",
    "M[0,1]=1\n",
    "M[1,0]=1\n",
    "M[1,2]=1\n",
    "M[2,1]=1\n",
    "\n",
    "# Set the diagonals to -4\n",
    "for i in range(3): \n",
    "    M[i, i] = -4\n",
    "    \n",
    "print(M)"
   ]
  },
  {
   "cell_type": "code",
   "execution_count": 6,
   "id": "16b209c3",
   "metadata": {},
   "outputs": [
    {
     "data": {
      "text/plain": [
       "-56.00000000000002"
      ]
     },
     "execution_count": 6,
     "metadata": {},
     "output_type": "execute_result"
    }
   ],
   "source": [
    "linalg.det(M)"
   ]
  },
  {
   "cell_type": "code",
   "execution_count": 9,
   "id": "7f67b277",
   "metadata": {},
   "outputs": [
    {
     "name": "stdout",
     "output_type": "stream",
     "text": [
      "[[-0.26785714 -0.07142857 -0.01785714]\n",
      " [-0.07142857 -0.28571429 -0.07142857]\n",
      " [-0.01785714 -0.07142857 -0.26785714]]\n",
      "[[ 1.0000000e+00  0.0000000e+00  0.0000000e+00]\n",
      " [-6.9388939e-18  1.0000000e+00  0.0000000e+00]\n",
      " [ 0.0000000e+00  0.0000000e+00  1.0000000e+00]]\n"
     ]
    },
    {
     "data": {
      "text/plain": [
       "array([[ 1.0000000e+00,  0.0000000e+00,  0.0000000e+00],\n",
       "       [-6.9388939e-18,  1.0000000e+00,  0.0000000e+00],\n",
       "       [ 0.0000000e+00,  0.0000000e+00,  1.0000000e+00]])"
      ]
     },
     "execution_count": 9,
     "metadata": {},
     "output_type": "execute_result"
    }
   ],
   "source": [
    "Minv=linalg.inv(M)\n",
    "print(Minv)\n",
    "\n",
    "print(np.matmul(M,Minv)) #or, more briefly:\n",
    "M@Minv"
   ]
  },
  {
   "cell_type": "code",
   "execution_count": 8,
   "id": "455710f8",
   "metadata": {},
   "outputs": [
    {
     "name": "stdout",
     "output_type": "stream",
     "text": [
      "[ -5.   9. -17.]\n"
     ]
    },
    {
     "data": {
      "text/plain": [
       "array([ -5.,   9., -17.])"
      ]
     },
     "execution_count": 8,
     "metadata": {},
     "output_type": "execute_result"
    }
   ],
   "source": [
    "# define a vector\n",
    "v=np.array([1,-1,4])\n",
    "\n",
    "print(np.matmul(M,v)) #or\n",
    "M@v"
   ]
  },
  {
   "cell_type": "markdown",
   "id": "531eeaef",
   "metadata": {},
   "source": [
    "<b> Exercise (a):</b> Take the 5-point lattice [-2,-1,0,1,2] as an example. Fix the boundary values to $V_{-2}=3$ and $V_{2}=-1$ and use linear algebra to solve the relaxation problem. Procceed by hand up until you have setup the matrix problem, but use Python code to invert the matrix and solve the linear system of equations.  "
   ]
  },
  {
   "cell_type": "markdown",
   "id": "c52a4d52",
   "metadata": {},
   "source": [
    "<b> Exercise (b):</b> Write a function called RelaxLinAlg1D that implements this strategy for an arbitrary number of lattices points $N$."
   ]
  },
  {
   "cell_type": "markdown",
   "id": "8885118d",
   "metadata": {},
   "source": [
    "## Timing Code"
   ]
  },
  {
   "cell_type": "markdown",
   "id": "1aa1c4c3",
   "metadata": {},
   "source": [
    "Python allows you to time how long your code takes to run. When you write code that has to repeat a calculation many times, for example by running it on a lattice with a large number of points N, it is important that your code does these calculations as efficiently as possible. This snippet allows you to test a code block's duration:"
   ]
  },
  {
   "cell_type": "code",
   "execution_count": null,
   "id": "5f4e5599",
   "metadata": {},
   "outputs": [],
   "source": [
    "import time\n",
    "\n",
    "t0 = time.time()\n",
    "code_block\n",
    "t1 = time.time()\n",
    "\n",
    "total = t1-t0"
   ]
  },
  {
   "cell_type": "markdown",
   "id": "087046ff",
   "metadata": {},
   "source": [
    "<b>Exercise (c):</b> Between the previous notebook and this one you have written two functions both of which implement the method of relaxation. Which of them is more efficient? You should investigate this question not just for one lattice size, but also check what happens as the lattice gets bigger and bigger. "
   ]
  },
  {
   "cell_type": "markdown",
   "id": "b4eba20e",
   "metadata": {},
   "source": [
    "<b>Warning:</b> The method of <b>Exercise (c)</b> is important to know about. However, you should take the answer that you find with a grain of salt. Many human hours have been put into optimizing the linalg package, while we spent little time optimizing the iterative scheme. In fact, the two different approaches have different regimes where they are most useful; a deeper investigation of their respective strengths would be an excellent research project."
   ]
  }
 ],
 "metadata": {
  "kernelspec": {
   "display_name": "Python 3 (ipykernel)",
   "language": "python",
   "name": "python3"
  },
  "language_info": {
   "codemirror_mode": {
    "name": "ipython",
    "version": 3
   },
   "file_extension": ".py",
   "mimetype": "text/x-python",
   "name": "python",
   "nbconvert_exporter": "python",
   "pygments_lexer": "ipython3",
   "version": "3.11.4"
  }
 },
 "nbformat": 4,
 "nbformat_minor": 5
}
